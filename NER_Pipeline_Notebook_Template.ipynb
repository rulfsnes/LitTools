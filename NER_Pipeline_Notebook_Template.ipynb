{
 "cells": [
  {
   "cell_type": "markdown",
   "metadata": {},
   "source": [
    "# Named Entity Recognition (NER) Pipeline\n",
    "This notebook provides a complete pipeline for Named Entity Recognition (NER) on a collection of documents.\n",
    "It includes steps for data preprocessing, entity extraction using spaCy, and basic visualization."
   ]
  },
  {
   "cell_type": "markdown",
   "metadata": {},
   "source": [
    "## Step 1: Import Libraries\n",
    "We'll use libraries like spaCy for NER, pandas for data handling, and matplotlib for visualization."
   ]
  },
  {
   "cell_type": "code",
   "execution_count": null,
   "metadata": {},
   "outputs": [],
   "source": [
    "import spacy\n",
    "import pandas as pd\n",
    "import matplotlib.pyplot as plt\n",
    "from collections import Counter\n",
    "\n",
    "# Load spaCy's English NER model\n",
    "nlp = spacy.load('en_core_web_sm')"
   ]
  },
  {
   "cell_type": "markdown",
   "metadata": {},
   "source": [
    "# Load word documents"
   ]
  },
  {
   "cell_type": "code",
   "execution_count": null,
   "metadata": {},
   "outputs": [],
   "source": [
    "import os\n",
    "from docx import Document\n",
    "import pandas as pd\n",
    "\n",
    "# Define file path manually\n",
    "file_path = r\"C:\\Users\\Rasmus\\Downloads\\Interview Generate Draft-20240229_163335-Emrah.docx\"  # Update this path\n",
    "\n",
    "def load_docx(file_path):\n",
    "    doc = Document(file_path)\n",
    "    return \"\\n\".join([paragraph.text for paragraph in doc.paragraphs])\n",
    "\n",
    "# Load document and convert to DataFrame\n",
    "text = load_docx(file_path)\n",
    "df = pd.DataFrame({\"filename\": [os.path.basename(file_path)], \"text\": [text]})\n",
    "df.head()"
   ]
  },
  {
   "cell_type": "code",
   "execution_count": null,
   "metadata": {},
   "outputs": [],
   "source": [
    "import os\n",
    "import pandas as pd\n",
    "from docx import Document\n",
    "\n",
    "# Function to load text from a .docx file\n",
    "def load_docx(file_path):\n",
    "    \"\"\"\n",
    "    Load text from a Word document (.docx) and return as a string.\n",
    "    \"\"\"\n",
    "    doc = Document(file_path)\n",
    "    return \"\\n\".join([paragraph.text for paragraph in doc.paragraphs])\n",
    "\n",
    "# Directory containing Word documents\n",
    "directory_path = r\"C:\\Users\\Rasmus\\Projects\\LitTools\\docs\"  # Update this path to your directory\n",
    "\n",
    "# Load all .docx files from the directory into a DataFrame\n",
    "documents = []\n",
    "for filename in os.listdir(directory_path):\n",
    "    if filename.endswith(\".docx\"):\n",
    "        file_path = os.path.join(directory_path, filename)\n",
    "        text = load_docx(file_path)\n",
    "        documents.append({\"filename\": filename, \"text\": text})\n",
    "\n",
    "# Convert to DataFrame\n",
    "df = pd.DataFrame(documents)\n",
    "\n",
    "# Display the DataFrame with all documents\n",
    "pd.set_option('display.max_rows', None)  # Optional: to display all rows\n",
    "pd.set_option('display.max_colwidth', None)  # Optional: to display full text\n",
    "display(df)\n",
    "\n"
   ]
  },
  {
   "cell_type": "markdown",
   "metadata": {},
   "source": [
    "## Step 3: Text Cleaning and Preprocessing\n",
    "Clean and preprocess the text, removing unnecessary characters or whitespace."
   ]
  },
  {
   "cell_type": "code",
   "execution_count": null,
   "metadata": {},
   "outputs": [],
   "source": [
    "def clean_text(text):\n",
    "    # Basic text cleaning\n",
    "    text = text.replace(' ', '').strip()\n",
    "    return text\n",
    "\n",
    "df['cleaned_text'] = df['text'].apply(clean_text)  # Update 'text_column' with your actual column name\n",
    "df.head()"
   ]
  },
  {
   "cell_type": "markdown",
   "metadata": {},
   "source": [
    "## Step 4: Named Entity Recognition\n",
    "Extract named entities using spaCy's NER model."
   ]
  },
  {
   "cell_type": "code",
   "execution_count": null,
   "metadata": {},
   "outputs": [],
   "source": [
    "def extract_entities(text):\n",
    "    doc = nlp(text)\n",
    "    entities = [(ent.text, ent.label_) for ent in doc.ents]\n",
    "    return entities\n",
    "\n",
    "df['entities'] = df['cleaned_text'].apply(extract_entities)\n",
    "df[['cleaned_text', 'entities']].head()"
   ]
  },
  {
   "cell_type": "markdown",
   "metadata": {},
   "source": [
    "## Step 5: Analyze and Visualize Extracted Entities\n",
    "Analyze the extracted entities, such as entity frequency or types."
   ]
  },
  {
   "cell_type": "code",
   "execution_count": null,
   "metadata": {},
   "outputs": [],
   "source": [
    "# Flatten list of entities\n",
    "all_entities = [ent for entities in df['entities'] for ent in entities]\n",
    "entity_texts = [ent[0] for ent in all_entities]\n",
    "entity_labels = [ent[1] for ent in all_entities]\n",
    "\n",
    "# Count entities\n",
    "entity_counts = Counter(entity_labels)\n",
    "print(entity_counts)"
   ]
  },
  {
   "cell_type": "markdown",
   "metadata": {},
   "source": [
    "### Visualization: Entity Frequency\n",
    "Visualize the frequency of entity types extracted."
   ]
  },
  {
   "cell_type": "code",
   "execution_count": null,
   "metadata": {},
   "outputs": [],
   "source": [
    "# Plot entity frequency\n",
    "plt.figure(figsize=(10, 6))\n",
    "plt.bar(entity_counts.keys(), entity_counts.values())\n",
    "plt.title('Entity Frequency')\n",
    "plt.xlabel('Entity Type')\n",
    "plt.ylabel('Count')\n",
    "plt.show()"
   ]
  },
  {
   "cell_type": "markdown",
   "metadata": {},
   "source": [
    "## Step 6: Save Extracted Entities\n",
    "Save the extracted entities for further analysis or use."
   ]
  },
  {
   "cell_type": "code",
   "execution_count": null,
   "metadata": {},
   "outputs": [],
   "source": [
    "# Save to CSV\n",
    "df[\"entities\"].to_csv('extracted_entities.csv', index=False)  "
   ]
  },
  {
   "cell_type": "code",
   "execution_count": null,
   "metadata": {},
   "outputs": [],
   "source": [
    "# Function to extract entities, excluding CARDINAL\n",
    "def extract_entities_excluding_cardinals(text):\n",
    "    doc = nlp(text)\n",
    "    # Only include entities that are not labeled as CARDINAL\n",
    "    return [(ent.text, ent.label_) for ent in doc.ents if ent.label_ != \"CARDINAL\"]\n",
    "\n",
    "# Apply the function to each row in the DataFrame\n",
    "df['filtered_entities'] = df['text'].apply(extract_entities_excluding_cardinals)\n",
    "\n",
    "# Display the DataFrame with the filtered entities\n",
    "df[[ 'filtered_entities']]"
   ]
  },
  {
   "cell_type": "code",
   "execution_count": null,
   "metadata": {},
   "outputs": [],
   "source": [
    "# Flatten list of entities\n",
    "all_entities = [ent for entities in df['filtered_entities'] for ent in entities]\n",
    "entity_texts = [ent[0] for ent in all_entities]\n",
    "entity_labels = [ent[1] for ent in all_entities]\n",
    "\n",
    "# Count entities\n",
    "entity_counts = Counter(entity_labels)\n",
    "print(entity_counts)"
   ]
  },
  {
   "cell_type": "code",
   "execution_count": null,
   "metadata": {},
   "outputs": [],
   "source": [
    "# Plot entity frequency\n",
    "plt.figure(figsize=(15, 6))\n",
    "plt.bar(entity_counts.keys(), entity_counts.values())\n",
    "plt.title('Entity Frequency')\n",
    "plt.xlabel('Entity Type')\n",
    "plt.ylabel('Count')\n",
    "plt.show()"
   ]
  },
  {
   "cell_type": "code",
   "execution_count": null,
   "metadata": {},
   "outputs": [],
   "source": [
    "df[\"filtered_entities\"].to_csv(\"filtered.csv\")"
   ]
  },
  {
   "cell_type": "code",
   "execution_count": null,
   "metadata": {},
   "outputs": [],
   "source": [
    "entity_types_to_keep =  {\"PERSON\"}\n",
    "\n",
    "# Function to extract entities of certain types\n",
    "def extract_specific_entities(text):\n",
    "    doc = nlp(text)\n",
    "    # Only include entities of the specified types\n",
    "    return [(ent.text, ent.label_) for ent in doc.ents if ent.label_ in entity_types_to_keep]\n",
    "\n",
    "# Apply the function to each row in the DataFrame\n",
    "df['filtered_entities'] = df['text'].apply(extract_specific_entities)\n",
    "\n",
    "# Display the DataFrame with the filtered entities\n",
    "df['filtered_entities'].to_csv(\"person.csv\")"
   ]
  },
  {
   "cell_type": "code",
   "execution_count": null,
   "metadata": {},
   "outputs": [],
   "source": [
    "df[\"cleaned_text\"]"
   ]
  },
  {
   "cell_type": "code",
   "execution_count": null,
   "metadata": {},
   "outputs": [],
   "source": [
    "import pandas as pd\n",
    "import spacy\n",
    "import networkx as nx\n",
    "import matplotlib.pyplot as plt\n",
    "from itertools import combinations\n",
    "\n",
    "# Load spaCy's English NER model\n",
    "nlp = spacy.load('en_core_web_sm')\n",
    "\n",
    "# Assume you have a DataFrame named `df` with a column called \"text\"\n",
    "# df = pd.read_csv(\"your_documents.csv\") # Uncomment if you are reading from a CSV\n",
    "\n",
    "# Extract entities and create pairs of related entities\n",
    "entity_pairs = []\n",
    "\n",
    "def extract_entities_and_pairs(text):\n",
    "    doc = nlp(text)\n",
    "    # Extract PERSON, ORG, and GPE entities\n",
    "    entities = [ent.text for ent in doc.ents if ent.label_ in {\"PERSON\", \"ORG\", \"GPE\", \"PRODUCT\"}]\n",
    "    \n",
    "    # Create pairs of entities that co-occur in the same sentence\n",
    "    for sent in doc.sents:\n",
    "        sent_entities = [ent.text for ent in sent.ents if ent.label_ in {\"PERSON\", \"ORG\", \"GPE\", \"PRODUCT\"}]\n",
    "        entity_pairs.extend(list(combinations(sent_entities, 2)))\n",
    "\n",
    "# Apply the extraction to all rows in the DataFrame\n",
    "df[\"text\"].apply(extract_entities_and_pairs)\n",
    "\n",
    "# Create a DataFrame from entity pairs to store relationships\n",
    "edges_df = pd.DataFrame(entity_pairs, columns=[\"Entity1\", \"Entity2\"])\n",
    "\n",
    "# Create a graph using NetworkX\n",
    "G = nx.Graph()\n",
    "\n",
    "# Add edges to the graph\n",
    "for _, row in edges_df.iterrows():\n",
    "    G.add_edge(row['Entity1'], row['Entity2'])\n",
    "\n",
    "# Draw the social network graph\n",
    "plt.figure(figsize=(15, 10))\n",
    "pos = nx.spring_layout(G, k=0.5)  # Positioning the nodes for visualization\n",
    "nx.draw(G, pos, with_labels=True, node_color='skyblue', node_size=1500, font_size=10, font_weight='bold', edge_color='gray')\n",
    "plt.title('Social Network Graph of Entities')\n",
    "plt.show()\n"
   ]
  },
  {
   "cell_type": "code",
   "execution_count": null,
   "metadata": {},
   "outputs": [],
   "source": [
    "# Load spaCy's English NER model\n",
    "nlp = spacy.load('en_core_web_sm')\n",
    "\n",
    "# Assume you have a DataFrame named `df` with a column called \"text\"\n",
    "# df = pd.read_csv(\"your_documents.csv\") # Uncomment if you are reading from a CSV\n",
    "\n",
    "# Extract entities from each document\n",
    "document_entities = []\n",
    "\n",
    "def extract_entities(text):\n",
    "    doc = nlp(text)\n",
    "    # Extract PERSON, ORG, and GPE entities\n",
    "    entities = [ent.text for ent in doc.ents if ent.label_ in {\"PERSON\", \"PRODUCT\"}]\n",
    "    return entities\n",
    "\n",
    "# Apply entity extraction to each document\n",
    "df['entities'] = df['text'].apply(extract_entities)\n",
    "\n",
    "# Create pairs of related entities within the same document\n",
    "entity_pairs = []\n",
    "\n",
    "for entities in df['entities']:\n",
    "    # Create pairs within the same document\n",
    "    entity_pairs.extend(list(combinations(entities, 2)))\n",
    "\n",
    "# Create pairs across different documents\n",
    "for i, entities_i in enumerate(df['entities']):\n",
    "    for j, entities_j in enumerate(df['entities']):\n",
    "        if i < j:  # To avoid self-pairs and duplicate pairs\n",
    "            # Create combinations of entities across documents\n",
    "            for entity_i in entities_i:\n",
    "                for entity_j in entities_j:\n",
    "                    if entity_i != entity_j:\n",
    "                        entity_pairs.append((entity_i, entity_j))\n",
    "\n",
    "# Create a DataFrame from entity pairs to store relationships\n",
    "edges_df = pd.DataFrame(entity_pairs, columns=[\"Entity1\", \"Entity2\"])\n",
    "\n",
    "# Create a graph using NetworkX\n",
    "G = nx.Graph()\n",
    "\n",
    "# Add edges to the graph\n",
    "for _, row in edges_df.iterrows():\n",
    "    G.add_edge(row['Entity1'], row['Entity2'])\n",
    "\n",
    "# Draw the social network graph\n",
    "plt.figure(figsize=(15, 10))\n",
    "pos = nx.spring_layout(G, k=0.5)  # Positioning the nodes for visualization\n",
    "nx.draw(G, pos, with_labels=True, node_color='skyblue', node_size=1500, font_size=10, font_weight='bold', edge_color='gray')\n",
    "plt.title('Social Network Graph of Entities (Within and Across Documents)')\n",
    "plt.show()"
   ]
  }
 ],
 "metadata": {
  "kernelspec": {
   "display_name": "Python 3",
   "language": "python",
   "name": "python3"
  },
  "language_info": {
   "codemirror_mode": {
    "name": "ipython",
    "version": 3
   },
   "file_extension": ".py",
   "mimetype": "text/x-python",
   "name": "python",
   "nbconvert_exporter": "python",
   "pygments_lexer": "ipython3",
   "version": "3.11.10"
  }
 },
 "nbformat": 4,
 "nbformat_minor": 2
}
